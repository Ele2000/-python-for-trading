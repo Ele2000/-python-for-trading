{
  "nbformat": 4,
  "nbformat_minor": 0,
  "metadata": {
    "colab": {
      "name": "get_max",
      "provenance": [],
      "authorship_tag": "ABX9TyPL4KH5890QpX8WWAkeUoWU",
      "include_colab_link": true
    },
    "kernelspec": {
      "name": "python3",
      "display_name": "Python 3"
    },
    "language_info": {
      "name": "python"
    }
  },
  "cells": [
    {
      "cell_type": "markdown",
      "metadata": {
        "id": "view-in-github",
        "colab_type": "text"
      },
      "source": [
        "<a href=\"https://colab.research.google.com/github/Ele2000/-python-for-trading/blob/main/get_max.ipynb\" target=\"_parent\"><img src=\"https://colab.research.google.com/assets/colab-badge.svg\" alt=\"Open In Colab\"/></a>"
      ]
    },
    {
      "cell_type": "markdown",
      "source": [
        "get_max"
      ],
      "metadata": {
        "id": "YbUXCtCByFA0"
      }
    },
    {
      "cell_type": "code",
      "source": [
        "import pandas as pd\n",
        "import matplotlib.pyplot as plt\n",
        "\n",
        "def main():\n",
        "    df = pd.read_csv(\"JNJ.csv\")\n",
        "    print(df)\n",
        "    df['Close'].plot()\n",
        "    plt.savefig('graphs/aapl.png')\n",
        "\n",
        "def get_max_close(symbol):\n",
        "    df = pd.read_csv(f\"{symbol}.csv\")\n",
        "    return df['Close'].max()\n",
        "\n",
        "def main():\n",
        "    print('Max Close:')\n",
        "    for symbol in ['JNJ']:\n",
        "        print(symbol + \":\", get_max_close(symbol))\n",
        "\n",
        "if __name__ == \"__main__\":\n",
        "    main()"
      ],
      "metadata": {
        "id": "oROhm-CqyGbZ"
      },
      "execution_count": null,
      "outputs": []
    }
  ]
}