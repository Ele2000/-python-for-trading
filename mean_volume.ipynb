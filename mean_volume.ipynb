{
  "nbformat": 4,
  "nbformat_minor": 0,
  "metadata": {
    "colab": {
      "name": "mean_volume",
      "provenance": [],
      "authorship_tag": "ABX9TyP4ks5f3qL/DnrCBd52XYdP",
      "include_colab_link": true
    },
    "kernelspec": {
      "name": "python3",
      "display_name": "Python 3"
    },
    "language_info": {
      "name": "python"
    }
  },
  "cells": [
    {
      "cell_type": "markdown",
      "metadata": {
        "id": "view-in-github",
        "colab_type": "text"
      },
      "source": [
        "<a href=\"https://colab.research.google.com/github/Ele2000/-python-for-trading/blob/main/mean_volume.ipynb\" target=\"_parent\"><img src=\"https://colab.research.google.com/assets/colab-badge.svg\" alt=\"Open In Colab\"/></a>"
      ]
    },
    {
      "cell_type": "code",
      "source": [
        "import pandas as pd\n",
        "\n",
        "def get_mean_volume(symbol):\n",
        "    \"\"\"\n",
        "    Returns mean volume\n",
        "    \"\"\"\n",
        "    df = pd.read_csv((\"data/{}.csv\").format(symbol))\n",
        "    return df['Volume'].mean()\n",
        "\n",
        "def main():\n",
        "    print(\"Mean volume\")\n",
        "    for symbol in ['AAPL', 'IBM']:\n",
        "        print(symbol + ': ', get_mean_volume(symbol))\n",
        "\n",
        "\n",
        "if __name__ == \"__main__\":\n",
        "    main()"
      ],
      "metadata": {
        "id": "ngajIpJm9sOb"
      },
      "execution_count": null,
      "outputs": []
    }
  ]
}