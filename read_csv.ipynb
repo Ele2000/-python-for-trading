{
  "nbformat": 4,
  "nbformat_minor": 0,
  "metadata": {
    "colab": {
      "name": "01_read_csv",
      "provenance": [],
      "authorship_tag": "ABX9TyPYxUDWr77eVcfQY+EwxmLK",
      "include_colab_link": true
    },
    "kernelspec": {
      "name": "python3",
      "display_name": "Python 3"
    },
    "language_info": {
      "name": "python"
    }
  },
  "cells": [
    {
      "cell_type": "markdown",
      "metadata": {
        "id": "view-in-github",
        "colab_type": "text"
      },
      "source": [
        "<a href=\"https://colab.research.google.com/github/Ele2000/-python-for-trading/blob/main/01_read_csv.ipynb\" target=\"_parent\"><img src=\"https://colab.research.google.com/assets/colab-badge.svg\" alt=\"Open In Colab\"/></a>"
      ]
    },
    {
      "cell_type": "markdown",
      "source": [
        "01_read_csv"
      ],
      "metadata": {
        "id": "cXMAvUp5r4be"
      }
    },
    {
      "cell_type": "code",
      "source": [
        "import pandas as pd\n",
        "\n",
        "\n",
        "def main():\n",
        "    df = pd.read_csv('data/AAPL.csv')\n",
        "    print(df)\n",
        "\n",
        "if __name__==\"__main__\":\n",
        "    main()"
      ],
      "metadata": {
        "id": "BJDmi0LEuwUU"
      },
      "execution_count": null,
      "outputs": []
    }
  ]
}
