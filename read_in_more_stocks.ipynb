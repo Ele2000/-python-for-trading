{
  "nbformat": 4,
  "nbformat_minor": 0,
  "metadata": {
    "colab": {
      "name": "read_in_more_stocks",
      "provenance": [],
      "authorship_tag": "ABX9TyPG1ShsAYYhTsmSctNDlj6U",
      "include_colab_link": true
    },
    "kernelspec": {
      "name": "python3",
      "display_name": "Python 3"
    },
    "language_info": {
      "name": "python"
    }
  },
  "cells": [
    {
      "cell_type": "markdown",
      "metadata": {
        "id": "view-in-github",
        "colab_type": "text"
      },
      "source": [
        "<a href=\"https://colab.research.google.com/github/Ele2000/-python-for-trading/blob/main/read_in_more_stocks.ipynb\" target=\"_parent\"><img src=\"https://colab.research.google.com/assets/colab-badge.svg\" alt=\"Open In Colab\"/></a>"
      ]
    },
    {
      "cell_type": "code",
      "execution_count": null,
      "metadata": {
        "id": "TpAnnUUIADm4"
      },
      "outputs": [],
      "source": [
        "import pandas as pd\n",
        "\n",
        "\n",
        "def main():\n",
        "    start_date = '2021-01-22'\n",
        "    end_date = '2021-01-26'\n",
        "    dates = pd.date_range(start_date, end_date)\n",
        "    df1 = pd.DataFrame(index=dates)\n",
        "    dfSPY = pd.read_csv(\n",
        "        'data/SPY.csv', index_col='Date', parse_dates=True,\n",
        "        usecols=['Date','Adj Close'], na_values=['nan']\n",
        "    )\n",
        "    dfSPY = dfSPY.rename(columns={'Adj Close': 'SPY'})\n",
        "    df1 = df1.join(dfSPY, how='inner')\n",
        "\n",
        "    symbols = ['AAPL', 'FB', 'GLD', 'IBM', 'KO']\n",
        "    for symbol in symbols:\n",
        "        df_temp = pd.read_csv(\n",
        "            f\"data/{symbol}.csv\", index_col='Date', parse_dates=True,\n",
        "            usecols=['Date','Adj Close'], na_values=['nan'],\n",
        "        )\n",
        "        df_temp = df_temp.rename(columns={'Adj Close': symbol})\n",
        "        df1 = df1.join(df_temp)\n",
        "\n",
        "    print(df1)\n",
        "\n",
        "if __name__==\"__main__\":\n",
        "    main()"
      ]
    }
  ]
}